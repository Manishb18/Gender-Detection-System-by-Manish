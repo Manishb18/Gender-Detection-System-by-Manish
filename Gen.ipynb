{
 "cells": [
  {
   "cell_type": "code",
   "execution_count": 1,
   "metadata": {},
   "outputs": [],
   "source": [
    "import os\n",
    "from tensorflow.keras import layers\n",
    "from tensorflow.keras import Model\n",
    "from keras.preprocessing import image\n",
    "from keras.preprocessing.image import ImageDataGenerator\n",
    "import numpy as np\n",
    "from keras.preprocessing import image\n",
    "from tensorflow.keras.optimizers import Adam\n",
    "import tensorflow as tf\n",
    "import matplotlib.pyplot as plt\n",
    "import PIL.Image"
   ]
  },
  {
   "cell_type": "code",
   "execution_count": 2,
   "metadata": {},
   "outputs": [
    {
     "name": "stdout",
     "output_type": "stream",
     "text": [
      "Found 13000 images belonging to 2 classes.\n",
      "Found 4000 images belonging to 2 classes.\n"
     ]
    }
   ],
   "source": [
    "train_data = ImageDataGenerator(rescale = 1./255, rotation_range=40, width_shift_range=0.2, height_shift_range=0.2, shear_range=0.2, zoom_range=0.2, horizontal_flip=True, fill_mode='nearest')\n",
    "test_data = ImageDataGenerator(rescale=1.0/255)\n",
    "\n",
    "train_gen = train_data.flow_from_directory(\"Dataset/Train/\",\n",
    "                                                    batch_size =256 ,\n",
    "                                                    class_mode = 'binary', \n",
    "                                                    target_size = (64, 64))\n",
    "\n",
    "validation_gen = test_data.flow_from_directory(\"Dataset/Validation/\",\n",
    "                                                          batch_size  = 256,\n",
    "                                                          class_mode  = 'binary', \n",
    "                                                          target_size = (64, 64))"
   ]
  },
  {
   "cell_type": "code",
   "execution_count": 3,
   "metadata": {},
   "outputs": [],
   "source": [
    "model = tf.keras.models.Sequential([\n",
    "    # 1st conv\n",
    "  tf.keras.layers.Conv2D(96, (11,11),strides=(4,4), activation='relu', input_shape=(64, 64, 3)),\n",
    "  tf.keras.layers.BatchNormalization(),\n",
    "  tf.keras.layers.MaxPooling2D(2, strides=(2,2)),\n",
    "    # 2nd conv\n",
    "  tf.keras.layers.Conv2D(256, (11,11),strides=(1,1), activation='relu',padding=\"same\"),\n",
    "  tf.keras.layers.BatchNormalization(),\n",
    "     # 3rd conv\n",
    "  tf.keras.layers.Conv2D(384, (3,3),strides=(1,1), activation='relu',padding=\"same\"),\n",
    "  tf.keras.layers.BatchNormalization(),\n",
    "    # 4th conv\n",
    "  tf.keras.layers.Conv2D(384, (3,3),strides=(1,1), activation='relu',padding=\"same\"),\n",
    "  tf.keras.layers.BatchNormalization(),\n",
    "    # 5th Conv\n",
    "  tf.keras.layers.Conv2D(256, (3, 3), strides=(1, 1), activation='relu',padding=\"same\"),\n",
    "  tf.keras.layers.BatchNormalization(),\n",
    "  tf.keras.layers.MaxPooling2D(2, strides=(2, 2)),\n",
    "  # To Flatten layer\n",
    "  tf.keras.layers.Flatten(),\n",
    "  # To FC layer 1\n",
    "  tf.keras.layers.Dense(4096, activation='relu'),\n",
    "  tf.keras.layers.Dropout(0.5),\n",
    "  #To FC layer 2\n",
    "  tf.keras.layers.Dense(4096, activation='relu'),\n",
    "  tf.keras.layers.Dropout(0.5),\n",
    "  tf.keras.layers.Dense(1, activation='sigmoid')\n",
    "  ])"
   ]
  },
  {
   "cell_type": "code",
   "execution_count": 4,
   "metadata": {},
   "outputs": [
    {
     "name": "stderr",
     "output_type": "stream",
     "text": [
      "WARNING:absl:`lr` is deprecated, please use `learning_rate` instead, or use the legacy optimizer, e.g.,tf.keras.optimizers.legacy.Adam.\n"
     ]
    }
   ],
   "source": [
    "model.compile(\n",
    "    optimizer=Adam(lr=0.001),\n",
    "    loss='binary_crossentropy',\n",
    "    metrics=['accuracy']\n",
    ")"
   ]
  },
  {
   "cell_type": "code",
   "execution_count": 7,
   "metadata": {},
   "outputs": [
    {
     "name": "stderr",
     "output_type": "stream",
     "text": [
      "C:\\Users\\bonal\\AppData\\Local\\Temp\\ipykernel_2380\\2777446188.py:2: UserWarning: `Model.fit_generator` is deprecated and will be removed in a future version. Please use `Model.fit`, which supports generators.\n",
      "  hist = model.fit_generator(generator=train_gen,\n"
     ]
    },
    {
     "name": "stdout",
     "output_type": "stream",
     "text": [
      "Epoch 1/12\n",
      "51/51 [==============================] - 788s 12s/step - loss: 0.6698 - accuracy: 0.6085 - val_loss: 0.6956 - val_accuracy: 0.5815\n",
      "Epoch 2/12\n",
      "51/51 [==============================] - 688s 14s/step - loss: 0.6218 - accuracy: 0.6652 - val_loss: 1.0255 - val_accuracy: 0.5397\n",
      "Epoch 3/12\n",
      "51/51 [==============================] - 477s 9s/step - loss: 0.5530 - accuracy: 0.7220 - val_loss: 0.6150 - val_accuracy: 0.6873\n",
      "Epoch 4/12\n",
      "51/51 [==============================] - 471s 9s/step - loss: 0.5176 - accuracy: 0.7505 - val_loss: 0.5234 - val_accuracy: 0.7262\n",
      "Epoch 5/12\n",
      "51/51 [==============================] - 457s 9s/step - loss: 0.4696 - accuracy: 0.7832 - val_loss: 1.8365 - val_accuracy: 0.5000\n",
      "Epoch 6/12\n",
      "51/51 [==============================] - 471s 9s/step - loss: 0.4326 - accuracy: 0.8042 - val_loss: 1.4830 - val_accuracy: 0.5145\n",
      "Epoch 7/12\n",
      "51/51 [==============================] - 454s 9s/step - loss: 0.3938 - accuracy: 0.8318 - val_loss: 1.0247 - val_accuracy: 0.6510\n",
      "Epoch 8/12\n",
      "51/51 [==============================] - 450s 9s/step - loss: 0.3667 - accuracy: 0.8422 - val_loss: 1.6301 - val_accuracy: 0.5085\n",
      "Epoch 9/12\n",
      "51/51 [==============================] - 448s 9s/step - loss: 0.3464 - accuracy: 0.8577 - val_loss: 1.9010 - val_accuracy: 0.6018\n",
      "Epoch 10/12\n",
      "51/51 [==============================] - 448s 9s/step - loss: 0.3237 - accuracy: 0.8688 - val_loss: 0.2839 - val_accuracy: 0.8882\n",
      "Epoch 11/12\n",
      "51/51 [==============================] - 448s 9s/step - loss: 0.3317 - accuracy: 0.8658 - val_loss: 0.2748 - val_accuracy: 0.9007\n",
      "Epoch 12/12\n",
      "51/51 [==============================] - 1839s 37s/step - loss: 0.3044 - accuracy: 0.8781 - val_loss: 0.2644 - val_accuracy: 0.8980\n"
     ]
    }
   ],
   "source": [
    "import scipy\n",
    "hist = model.fit_generator(generator=train_gen,\n",
    "                           validation_data=validation_gen,\n",
    "                        #    steps_per_epoch=256,\n",
    "                        #    validation_steps=256,\n",
    "                           epochs=12)"
   ]
  },
  {
   "cell_type": "code",
   "execution_count": 8,
   "metadata": {},
   "outputs": [],
   "source": [
    "model.save('gender-classification-cnn-epochs-12.h5')"
   ]
  },
  {
   "cell_type": "code",
   "execution_count": 14,
   "metadata": {},
   "outputs": [
    {
     "name": "stdout",
     "output_type": "stream",
     "text": [
      "1/1 [==============================] - 2s 2s/step\n",
      "[1.]\n",
      "The person in the image is male.\n"
     ]
    },
    {
     "data": {
      "text/plain": [
       "<matplotlib.image.AxesImage at 0x1dc94ac7bb0>"
      ]
     },
     "execution_count": 14,
     "metadata": {},
     "output_type": "execute_result"
    },
    {
     "data": {
      "image/png": "[encoded data removed]",
      "text/plain": [
       "<Figure size 640x480 with 1 Axes>"
      ]
     },
     "metadata": {},
     "output_type": "display_data"
    }
   ],
   "source": [
    "# predicting the images and testing the model for both male and female image samples\n",
    "import keras\n",
    "# path = \"Dataset/Test/Female/testimg.jpg\"\n",
    "path = \"Dataset/Test/Male/male_test.jpg\"\n",
    "img = keras.utils.load_img(path, target_size=(64, 64))\n",
    "x = keras.utils.img_to_array(img)\n",
    "x = np.expand_dims(x, axis=0)\n",
    "images = np.vstack([x])\n",
    "classes = model.predict(images, batch_size=1)\n",
    "print(classes[0])\n",
    "if classes[0]>0.5:\n",
    "    print(\"The person in the image is male.\")\n",
    "else:\n",
    "    print( \"The person in the image is female.\")\n",
    "plt.imshow(img)"
   ]
  }
 ],
 "metadata": {
  "kernelspec": {
   "display_name": "Python 3.9.13 64-bit",
   "language": "python",
   "name": "python3"
  },
  "language_info": {
   "codemirror_mode": {
    "name": "ipython",
    "version": 3
   },
   "file_extension": ".py",
   "mimetype": "text/x-python",
   "name": "python",
   "nbconvert_exporter": "python",
   "pygments_lexer": "ipython3",
   "version": "3.9.13"
  },
  "orig_nbformat": 4,
  "vscode": {
   "interpreter": {
    "hash": "1a6ad001e5b4908a329701cfbc61a62bdaee3a5186f45ea51d2c7c594a1a916c"
   }
  }
 },
 "nbformat": 4,
 "nbformat_minor": 2
}
